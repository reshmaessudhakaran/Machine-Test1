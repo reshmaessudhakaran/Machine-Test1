{
  "nbformat": 4,
  "nbformat_minor": 0,
  "metadata": {
    "colab": {
      "provenance": []
    },
    "kernelspec": {
      "name": "python3",
      "display_name": "Python 3"
    },
    "language_info": {
      "name": "python"
    }
  },
  "cells": [
    {
      "cell_type": "markdown",
      "source": [
        "Machine Test Set 1"
      ],
      "metadata": {
        "id": "vkCSpgNZ5tN6"
      }
    },
    {
      "cell_type": "markdown",
      "source": [
        "1. # Reverse Words in a String\n"
      ],
      "metadata": {
        "id": "S0kJ3a_w8zd3"
      }
    },
    {
      "cell_type": "code",
      "execution_count": 15,
      "metadata": {
        "colab": {
          "base_uri": "https://localhost:8080/"
        },
        "id": "XrHZDQTD4aZT",
        "outputId": "6e2152a6-078a-4c49-f2e3-54d3d4e9a0f0"
      },
      "outputs": [
        {
          "output_type": "stream",
          "name": "stdout",
          "text": [
            "olleH dlroW nohtyP\n",
            " \n",
            "nohtyP elpmas margorp\n"
          ]
        }
      ],
      "source": [
        "# Reverse Words in a String\n",
        "#function to reverse words in a string\n",
        "def reverse_words(str):\n",
        "    if not str:\n",
        "        return \"\"     #Handle empty strings\n",
        "\n",
        "    result = []\n",
        "    word = []\n",
        "    for char in str:\n",
        "        if char != ' ':\n",
        "            word.append(char)   #collect individual characters of words in the string\n",
        "        else:\n",
        "            result.append(''.join(word[::-1]))    #reverse the word and store\n",
        "            word = []\n",
        "\n",
        "    result.append(''.join(word[::-1]))    #reverse the last word and store\n",
        "    return ' '.join(result)\n",
        "\n",
        "\n",
        "#Example Test Cases\n",
        "print(reverse_words(\"Hello World Python\"))\n",
        "print(reverse_words(\" \"))\n",
        "print(reverse_words(\"Python sample program\"))\n",
        "\n",
        "\n"
      ]
    },
    {
      "cell_type": "markdown",
      "source": [
        "3. File Processing"
      ],
      "metadata": {
        "id": "x9kSlysTJyIg"
      }
    },
    {
      "cell_type": "code",
      "source": [
        "#import\n",
        "import csv\n",
        "import os\n",
        "\n",
        "# Function to find top 3 most expensive products\n",
        "def expensive_products(csv_filename):\n",
        "    try:\n",
        "        # Check if file exists\n",
        "        if not os.path.exists(csv_filename):\n",
        "            raise FileNotFoundError(f\"Error: File '{csv_filename}' not found.\")\n",
        "\n",
        "        products = []\n",
        "\n",
        "        # Read CSV file\n",
        "        with open(csv_filename, mode='r', encoding='utf-8') as file:\n",
        "            reader = csv.DictReader(file) #reads the CSV file as a dictionary\n",
        "\n",
        "            # Validate if columns exist\n",
        "            required_columns = {\"product_id\", \"name\", \"price\"}\n",
        "            if not required_columns.issubset(reader.fieldnames):\n",
        "                raise ValueError(\"Error: Malformed CSV file. Missing required columns.\")\n",
        "\n",
        "            # Processing each row\n",
        "            for row in reader:\n",
        "                try:\n",
        "                    product_id = int(row[\"product_id\"])\n",
        "                    name = row[\"name\"]\n",
        "                    price = float(row[\"price\"])  # Convert price to float value\n",
        "                    products.append({\"product_id\": product_id, \"name\": name, \"price\": price})\n",
        "                except (ValueError, KeyError):\n",
        "                    print(f\"Warning: Skipping deformed row: {row}\")\n",
        "\n",
        "        # Sort products by price in descending order & select the top 3 most expensive products\n",
        "        top_expensive = sorted(products, key=lambda x: x[\"price\"], reverse=True)[:3]\n",
        "\n",
        "       # Display results in a tabular format\n",
        "        print(\"\\nTop 3 Most Expensive Products:\")\n",
        "        print(f\"{'ID':<10}{'Name':<20}{'Price':<15}\")\n",
        "        print(\"-\" * 40)\n",
        "\n",
        "        for product in top_expensive:\n",
        "            print(f\"{product['product_id']:<10}{product['name']:<15}{product['price']:.2f}\")\n",
        "\n",
        "    except FileNotFoundError as e:\n",
        "        print(e)\n",
        "    except ValueError as e:\n",
        "        print(e)\n",
        "    except Exception as e:\n",
        "        print(f\"Unexpected Error: {e}\")\n",
        "\n",
        "# Run the function\n",
        "if __name__ == \"__main__\":\n",
        "    csv_filename = \"product_list.csv\"  #  file name\n",
        "    expensive_products(csv_filename)\n"
      ],
      "metadata": {
        "colab": {
          "base_uri": "https://localhost:8080/"
        },
        "id": "eKM03RNe5_xa",
        "outputId": "c860d362-af8b-44e1-a5b2-7c8796e73b65"
      },
      "execution_count": 25,
      "outputs": [
        {
          "output_type": "stream",
          "name": "stdout",
          "text": [
            "\n",
            "Top 3 Most Expensive Products:\n",
            "ID        Name                Price          \n",
            "----------------------------------------\n",
            "102       FRIDGE         50000.00\n",
            "100       LAPTOP         40000.00\n",
            "105       T V            40000.00\n"
          ]
        }
      ]
    },
    {
      "cell_type": "code",
      "source": [],
      "metadata": {
        "id": "C4vdJXr1H-r7"
      },
      "execution_count": null,
      "outputs": []
    }
  ]
}